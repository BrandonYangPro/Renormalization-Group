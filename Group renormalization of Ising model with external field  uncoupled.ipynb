{
 "cells": [
  {
   "cell_type": "markdown",
   "metadata": {},
   "source": [
    "## Here we assume the energy from sites interactions and external field are uncoupled, then we calculate them separately.\n",
    "\n",
    "#### 1) Assume energy from external field and interactions are decoupled, we could start from an Ising system without interaction between neighboring sites:\n",
    "\n",
    "### $$e^{h\\sum_i S_i} = e^{h' \\sum_{i/\\lambda}S_i'}$$\n",
    "\n",
    "### $$e^{h \\sum_{i/\\lambda}\\{ \\sigma_i'+ \\sum_{j=1}^{\\lambda-1}S_j\\}} = e^{h' \\sum_{i/\\lambda}S_i'}$$\n",
    "\n",
    "#### Since each site is either $+1$ or $-1$, similar to binomial distributions:\n",
    "\n",
    "### $$e^{h \\sum_{i/\\lambda}\\{  \\sum_{j=0}^{\\lambda-1}{{\\lambda-1}\\choose{j}}(\\lambda-1-2j)+S_i'\\}} = e^{h' \\sum_{i/\\lambda}S_i'}$$\n",
    "\n",
    "#### Because each site combination, we could find there exists a combination whose share the same energy value but in opposite sign:\n",
    "\n",
    "##### $$ \\sum_{j=0}^{\\lambda-1}{{\\lambda-1}\\choose{j}}(\\lambda-1-2j) = 0$$\n",
    "\n",
    "### $$e^{h \\sum_{i/\\lambda}(\\lambda-1)S_i'} = e^{h' \\sum_{i/\\lambda}S_i'}$$\n",
    "\n",
    "\n",
    "#### So we could get the results as:\n",
    "##### $$h' = (\\lambda-1) h$$\n",
    "\n",
    "\n"
   ]
  },
  {
   "cell_type": "markdown",
   "metadata": {},
   "source": [
    "#### 2) For Ising model without external energy:\n",
    "\n",
    "####   $$ H  =  \\sum_{< i, j >}JS_i S_j$$\n",
    "\n",
    "#### Partition functions:\n",
    "#### $$Z = \\sum_{\\{S\\}} \\prod_{i= 1, L, 2L....,N} e^{JS_iS_{i+1}+...+ JS_{i+L-1}S_{i+L}}$$\n",
    " \n",
    "#### $$ Z = \\sum_{\\{S\\}} \\prod_{i= 1, 2,....,N/L} = f(J)\\: e^{J'S'_i S'_{i+1}}$$\n",
    "###  $$  e^{\\{J(S_i+S_{i+L})+Jm\\}} + e^{\\{-J(S_i+S_{i+L})+Jm\\}} +e^{\\{J(S_i-S_{i+L})+Jn\\}}+ e^{\\{J(S_{i+L}-S_i)+Jn\\}}  = f(J)\\: e^{J'S'_i S'_{i+1}} $$\n",
    " \n",
    " #### $$ J' = \\frac{1}{2}ln\\Big \\{\\frac{e^{(2J+Jm)}+e^{(-2J+Jm)}+2e^{Jn}}{e^{(2J+Jn)}+e^{(-2J+Jn)}+2e^{Jm}}\\Big \\}$$\n",
    " \n",
    "\n",
    "$$\n",
    "  f(J) = \\Big\\{(e^{\\{2J+Jm\\}} + e^{\\{-2J+Jm\\}} + 2e^{\\{Jn\\}})\n",
    "     \\times (e^{\\{2J+Jn\\}}+e^{\\{-2J+Jn\\}}+2e^{\\{Jm\\}})\\Big\\}^{\\frac{1}{2}}\n",
    "     $$"
   ]
  },
  {
   "cell_type": "markdown",
   "metadata": {},
   "source": [
    " \n"
   ]
  }
 ],
 "metadata": {
  "anaconda-cloud": {},
  "kernelspec": {
   "display_name": "Python 2",
   "language": "python",
   "name": "python2"
  },
  "language_info": {
   "codemirror_mode": {
    "name": "ipython",
    "version": 2
   },
   "file_extension": ".py",
   "mimetype": "text/x-python",
   "name": "python",
   "nbconvert_exporter": "python",
   "pygments_lexer": "ipython2",
   "version": "2.7.13"
  }
 },
 "nbformat": 4,
 "nbformat_minor": 1
}
