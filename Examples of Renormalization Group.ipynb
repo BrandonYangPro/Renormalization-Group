{
 "cells": [
  {
   "cell_type": "markdown",
   "metadata": {},
   "source": [
    "## 1. In the example, we know the 1D Ising model is scaled by 2:\n",
    "\n",
    "### $$exp\\{K(S_i+S_{i+1})\\} + exp\\{-K(S_i+S_{i+1})\\} = f(K)exp\\{K'S_iS_{i+1}\\}$$\n",
    "Case 1:  $$S_i = S_{i+1} = \\pm 1$$\n",
    "\n",
    "we could get: $$exp\\{2K\\}+exp\\{-2K\\} = f(K)exp\\{K'\\}$$\n",
    "\n",
    "Case 2:  $$S_i = -S_{i+1} = \\pm 1$$ \n",
    "\n",
    "we could get: $$2 = f(K)exp\\{-K'\\}$$\n"
   ]
  },
  {
   "cell_type": "markdown",
   "metadata": {},
   "source": [
    "## 2. Following the example above, when the 1D Ising model is scaled by L:\n",
    "\n",
    "### $$exp\\{K(S_i+S_{i+L})+Km\\} + exp\\{-K(S_i+S_{i+L})+Km\\}+exp\\{K(S_i-S_{i+L})+Kn\\} + exp\\{-K(S_i-S_{i+L})+Kn\\} = f(K)exp\\{K'S_iS_{i+1}\\}$$\n",
    "\n",
    "### Here $m$ and $n$ are constants, representing the sum of different combinations between two representative sites: \n",
    "### $$ m = \\sum_{} \\sum_{i=2}^{L-1} S_i S_{i+1}$$\n",
    "### $$ n = \\sum_{} \\sum_{i=2}^{L-1} S_i S_{i+1}$$\n",
    "<br>\n",
    "Case 1:  \n",
    "### $$S_i = S_{i+1} = \\pm 1$$\n",
    "\n",
    "\n",
    "### we could get: $$exp\\{2K+Km\\}+exp\\{-2K+Km\\}+2\\times exp\\{Km\\} = f(K)exp\\{K'\\}$$\n",
    "<br>\n",
    "Case 2:  \n",
    "### $$S_i = -S_{i+1} = \\pm 1$$\n",
    "\n",
    "### we could get:$$ exp\\{2K+Kn\\}+exp\\{-2K+Kn\\}+2\\times exp\\{Kn\\} = f(K)exp\\{-K'\\}$$"
   ]
  },
  {
   "cell_type": "markdown",
   "metadata": {},
   "source": [
    "## 3. In the case of systems scaled by 3:\n",
    "\n",
    "### 1) When $ S_i = S_{i+1} = \\pm 1$, $m = 1 $:\n",
    "### $$exp\\{2K+1\\}+exp\\{-2K+1\\}+2 = f(K)exp\\{K'\\}$$\n",
    "\n",
    "### 2) When $ S_i = -S_{i+1} = \\pm 1$, $n = -1 $:\n",
    "### $$exp\\{2K-1\\}+exp\\{-2K-1\\}-2 = f(K)exp\\{-K'\\}$$\n",
    "\n",
    "### From results above:\n",
    "### $$K' = \\frac{1}{2}ln{\\frac{exp\\{2K+1\\}+exp\\{-2K+1\\}+2}{exp\\{2K-1\\}+exp\\{-2K-1\\}-2}}$$\n",
    "### $$f(K) = \\{(exp\\{2K+1\\}+exp\\{-2K+1\\}+2) (exp\\{2K-1\\}+exp\\{-2K-1\\}-2)\\}^\\frac{1}{2}   $$"
   ]
  },
  {
   "cell_type": "code",
   "execution_count": null,
   "metadata": {
    "collapsed": true
   },
   "outputs": [],
   "source": []
  }
 ],
 "metadata": {
  "anaconda-cloud": {},
  "kernelspec": {
   "display_name": "Python [default]",
   "language": "python",
   "name": "python3"
  },
  "language_info": {
   "codemirror_mode": {
    "name": "ipython",
    "version": 3
   },
   "file_extension": ".py",
   "mimetype": "text/x-python",
   "name": "python",
   "nbconvert_exporter": "python",
   "pygments_lexer": "ipython3",
   "version": "3.5.2"
  }
 },
 "nbformat": 4,
 "nbformat_minor": 1
}
