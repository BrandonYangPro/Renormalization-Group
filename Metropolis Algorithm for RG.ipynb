{
 "cells": [
  {
   "cell_type": "markdown",
   "metadata": {},
   "source": [
    "\n",
    "\n",
    "\n",
    "\n",
    "Renormaliztion group  consists of three steps:\n",
    "1) Course Grain\n",
    "2) Rescale\n",
    "3) Renormalize\n",
    "\n",
    "\n",
    "\n"
   ]
  },
  {
   "cell_type": "code",
   "execution_count": null,
   "metadata": {
    "collapsed": true
   },
   "outputs": [],
   "source": []
  },
  {
   "cell_type": "markdown",
   "metadata": {},
   "source": [
    "\n",
    "\n",
    "\n",
    "# Applicaitons of Metroplis Algorithm in Ising model group renormalization\n",
    "\n",
    "### Step 1: Randomly select a spin\n",
    "\n",
    "### Step 2: Calculate the change in total energy $\\Delta$ E that would be caused by the flippting\n",
    "\n",
    "Consider the interactions between neighboring spins as the energy: \n",
    "## $$ E_m = -J\\sigma_m \\sum \\sigma_n$$\n",
    "Change in energy caused by the spin would become:\n",
    "## $$ \\Delta E = 2\\times J\\times spin \\times \\sum_{neighbor} spins$$\n",
    "\n",
    "### Step 3: If $\\Delta E$ <0, then flip the spin; otherwise flip the spin with the probability $e^{-\\Delta E/kT}$.\n",
    "Since the free energy would be preserved during renormalization, so $NE_1=N'E_1'$ and $NE_2=N'E_2'$:\n",
    "### $$N\\Delta E = NE_1-NE_2$$\n",
    "### $$N'\\Delta E' = N'E_1'-N'E_2'$$\n",
    "are known, so we would get the conclusion\n",
    "### $$  N'\\Delta E' = N\\Delta E $$\n",
    "### $$  \\Delta E' =b^d\\Delta E $$\n",
    "which  means the probability of flips in the Ising model is much lower under group renormalization.\n",
    "### Step 4: Repeat the procedures"
   ]
  },
  {
   "cell_type": "code",
   "execution_count": null,
   "metadata": {
    "collapsed": true
   },
   "outputs": [],
   "source": []
  }
 ],
 "metadata": {
  "anaconda-cloud": {},
  "kernelspec": {
   "display_name": "Python 2",
   "language": "python",
   "name": "python2"
  },
  "language_info": {
   "codemirror_mode": {
    "name": "ipython",
    "version": 2
   },
   "file_extension": ".py",
   "mimetype": "text/x-python",
   "name": "python",
   "nbconvert_exporter": "python",
   "pygments_lexer": "ipython2",
   "version": "2.7.13"
  }
 },
 "nbformat": 4,
 "nbformat_minor": 1
}
