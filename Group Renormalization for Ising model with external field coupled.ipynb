{
 "cells": [
  {
   "cell_type": "markdown",
   "metadata": {},
   "source": [
    "\n",
    "\n",
    "\n",
    "\n",
    "\n",
    "\n"
   ]
  },
  {
   "cell_type": "markdown",
   "metadata": {},
   "source": [
    "## 1D Ising model (with external magnetic field)\n",
    "\n",
    "#### It was assumed that the field force is Hamiltonian:\n",
    "### $$ H = -J\\sum_{< i,j>}^N S_i S_j - h\\sum_{i=1}^{N} S_i$$\n",
    "\n",
    "#### Partition function Z:\n",
    "$$\n",
    " \\begin{align}\\\\",
    " Z &= \\sum_{\\{s\\}} e^{-\\beta H[s]}\\\\",
    "  &= \\sum_{\\{s\\}} exp[J\\sum_{<i,j>}^N S_i S_j + h\\sum_{i=1}^{N} S_i]/kT\\\\",
    "  &= \\sum_{\\{s\\}} exp[\\frac{J}{kT}\\sum_{<i,j>}^N S_i S_j + \\frac{h}{kT}\\sum_{i=1}^{N} S_i]\\\\",
    "  &= \\sum_{\\{s\\}} \\{exp[K\\sum_{<i,j>}^N S_i S_j] \\times exp[W\\sum_{i=1}^{N} S_i] \\}\\\\",
    "  &= \\sum_{\\{s\\}} \\prod_{i=0}^{N/L-1} [exp(KS_{iL+1}S_{iL+2}+KS_{iL+2}S_{iL+3}+.....+KS_{iL+L-1}S_{iL+L}) \\times      \n",
    "                   exp(WS_{iL+1}+WS_{iL+2}+WS_{iL+3}+.....+WS_{iL+L-1}+WS_{iL+L})] \\\\",
    "\\end{align}\n",
    "$$\n",
    "#### Partition function Z' after renormalization: \n",
    "\n",
    "### $$ \\sum_{\\{s\\}} \\prod_{i=0}^{N/L-1} [exp(KS_{iL+1}S_{iL+2}+KS_{iL+2}S_{iL+3}+.....+KS_{iL+L-1}S_{iL+L}) \\times      \n",
    "                   exp(WS_{iL+1}+WS_{iL+2}+WS_{iL+3}+.....+WS_{iL+L-1}+WS_{iL+L})]  $$\n",
    "\n",
    "#### In the following, we would show under three extreme cases, the following relations between system before and after transformed by RG method:\n",
    "\n",
    "#### Case 1, two length L blocks share exactly the same positive value, all being '+1':\n",
    "### $$exp((2L-1)K) \\times exp(2LW) = f(K, W)exp(K')\\times exp(2W')$$\n",
    "\n",
    "#### Case 2, two length L blocks share exactly the same positive value, all being '-1':\n",
    "### $$exp((2L-1)K) \\times exp(-2LW) = f(K, W)exp(K')\\times exp(-2W')$$\n",
    "\n",
    "#### Case 3, two length L homogeneous blocks share opposite values, one being '+1', the other being '-1':\n",
    "### $$exp((2L-3)K) = f(K, W) exp(-K')$$\n",
    "\n",
    "\n",
    "\n",
    "#### We could calculate the connections between W' and W by divide equation in case 1 over equation in case 2:\n",
    "\n",
    "### $$exp(4W') = exp(4LW)$$\n",
    "### $$W'= LW$$\n",
    "\n",
    "\n",
    "#### Then we could calculate the connections between K' and K by divide equation in case 1 over equation in case 3:\n",
    "\n",
    "### $$K' = K$$\n",
    "\n",
    "#### Substitute the $K'$ into equations above, we could get:\n",
    "### $$f(K, W) = exp((2L-2)K)$$"
   ]
  },
  {
   "cell_type": "markdown",
   "metadata": {
    "collapsed": true
   },
   "source": [
    "\n"
   ]
  },
  {
   "cell_type": "code",
   "execution_count": null,
   "metadata": {
    "collapsed": true
   },
   "outputs": [],
   "source": []
  }
 ],
 "metadata": {
  "anaconda-cloud": {},
  "kernelspec": {
   "display_name": "Python 2",
   "language": "python",
   "name": "python2"
  },
  "language_info": {
   "codemirror_mode": {
    "name": "ipython",
    "version": 2
   },
   "file_extension": ".py",
   "mimetype": "text/x-python",
   "name": "python",
   "nbconvert_exporter": "python",
   "pygments_lexer": "ipython2",
   "version": "2.7.13"
  }
 },
 "nbformat": 4,
 "nbformat_minor": 1
}
