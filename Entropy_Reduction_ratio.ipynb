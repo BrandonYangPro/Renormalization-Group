## 1) In the original system, we could set conditions for the traffic systems as: vehicle number N = 128, total site number M = 256, vehicle density is 0.5:
#### $$P_0 = N/M$$
### Entropy for oringal systems:
#### $$H_0 = \sum_i^{M}P_0*log_2{P_0}+(1-P_0)*log_2(1-P_0)$$
### Entropy for original systme after one observation:
#### $$T_1 = \frac{N}{M}, T_2 = 1-\frac{N}{M}, P_1 = \frac{N-1}{M-1}, P_2 = \frac{N}{M-1}$$
#### $$H_1 = T_1*\sum_i^{M-1}P_1*log_2{P_1}+(1-P_1)*log_2(1-P_1)+T_2*\sum_i^{M-1}P_2*log_2{P_2}+(1-P_2)*log_2(1-P_2)$$

## 2) In the scaled system, vehicle number N' = 128/$\lambda$, total site number M' = 256/$\lambda$, vehicle density is 0.5:

####  $$P'_0 = 0.5$$
### Entropy for scaled systems:
#### $$H'_0 = \sum_i^{M'}P'_0*log_2{P'_0}+(1-P'_0)*log_2(1-P'_0)$$
### Entropy for scaled systme after one observation:
#### $$T'_1 = \frac{N'}{M'}, T'_2 = 1-\frac{N'}{M'}, P'_1 = \frac{N'-1}{M'-1}, P'_2 = \frac{N'}{M'-1}$$
#### $$H'_1 = T'_1*\sum_i^{M'-1}P'_1*log_2{P'_1}+(1-P'_1)*log_2(1-P'_1)+T'_2*\sum_i^{M'}P'_2*log_2{P'_2}+(1-P'_2)*log_2(1-P'_2)$$
